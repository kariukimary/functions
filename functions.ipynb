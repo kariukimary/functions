{
 "cells": [
  {
   "cell_type": "markdown",
   "id": "d8829cda",
   "metadata": {},
   "source": [
    "# Functions"
   ]
  },
  {
   "cell_type": "markdown",
   "id": "5a89bc93",
   "metadata": {},
   "source": [
    "1).what is the function of the \"def\" keyword"
   ]
  },
  {
   "cell_type": "raw",
   "id": "ec2ae181",
   "metadata": {},
   "source": [
    "the def keyword means the definition function which indicates the strt of the function or the header"
   ]
  },
  {
   "cell_type": "markdown",
   "id": "b75fc86c",
   "metadata": {},
   "source": [
    "2).What will the following Python program print out?"
   ]
  },
  {
   "cell_type": "code",
   "execution_count": 2,
   "id": "fc4a48ed",
   "metadata": {},
   "outputs": [
    {
     "name": "stdout",
     "output_type": "stream",
     "text": [
      "zap\n",
      "ABC\n",
      "zap\n"
     ]
    }
   ],
   "source": [
    "def fred():\n",
    "    print(\"zap\")\n",
    "def jane():\n",
    "    print(\"ABC\")\n",
    "fred()\n",
    "jane()\n",
    "fred()"
   ]
  },
  {
   "cell_type": "markdown",
   "id": "557b41ab",
   "metadata": {},
   "source": [
    "3). Rewrite your pay computation with time-and-a-half for over-time and create a function called computepay which takes two parameters (hours and rate)."
   ]
  },
  {
   "cell_type": "code",
   "execution_count": 1,
   "id": "3ea0dc44",
   "metadata": {},
   "outputs": [
    {
     "name": "stdout",
     "output_type": "stream",
     "text": [
      "enter number of hours34\n",
      "enter the rate per hour0.45\n"
     ]
    },
    {
     "data": {
      "text/plain": [
       "15.3"
      ]
     },
     "execution_count": 1,
     "metadata": {},
     "output_type": "execute_result"
    }
   ],
   "source": [
    "hours=int(input(\"enter number of hours\"))\n",
    "rate=float(input(\"enter the rate per hour\"))\n",
    "def compute_pay(hours,rate):\n",
    "    pay=hours*rate\n",
    "    return pay\n",
    "compute_pay(hours,rate)"
   ]
  },
  {
   "cell_type": "markdown",
   "id": "a5f9adaf",
   "metadata": {},
   "source": [
    "4).Rewrite the grade program from the previous chapter using a function called computegrade that takes a score as its parameter and\n",
    "returns a grade as a string."
   ]
  },
  {
   "cell_type": "code",
   "execution_count": 13,
   "id": "f05a0979",
   "metadata": {},
   "outputs": [
    {
     "name": "stdout",
     "output_type": "stream",
     "text": [
      "enter the grade45\n",
      "Fail,grade D\n"
     ]
    }
   ],
   "source": [
    "grade=int(input(\"enter the grade\"))\n",
    "def compute_grade():\n",
    "    if  grade>=70:\n",
    "        print(\"Excellent,grade A\")\n",
    "    elif grade>=60:\n",
    "        print(\"Good,grade B\")\n",
    "    elif grade>=50:\n",
    "        print(\"Average,grade C\")\n",
    "    elif grade>=40:\n",
    "        print(\"Fail,grade D\")\n",
    "    else:\n",
    "        print(\"Repeat unit,grade E\")\n",
    "compute_grade()"
   ]
  },
  {
   "cell_type": "code",
   "execution_count": null,
   "id": "31f56f96",
   "metadata": {},
   "outputs": [],
   "source": []
  },
  {
   "cell_type": "code",
   "execution_count": null,
   "id": "387ee5af",
   "metadata": {},
   "outputs": [],
   "source": []
  }
 ],
 "metadata": {
  "kernelspec": {
   "display_name": "Python 3 (ipykernel)",
   "language": "python",
   "name": "python3"
  },
  "language_info": {
   "codemirror_mode": {
    "name": "ipython",
    "version": 3
   },
   "file_extension": ".py",
   "mimetype": "text/x-python",
   "name": "python",
   "nbconvert_exporter": "python",
   "pygments_lexer": "ipython3",
   "version": "3.9.7"
  }
 },
 "nbformat": 4,
 "nbformat_minor": 5
}
